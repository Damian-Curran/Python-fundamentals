{
 "cells": [
  {
   "cell_type": "code",
   "execution_count": 1,
   "metadata": {},
   "outputs": [
    {
     "name": "stdout",
     "output_type": "stream",
     "text": [
      "Hello, World!\n"
     ]
    }
   ],
   "source": [
    "w = \"Hello, World!\"\n",
    "print(w)"
   ]
  },
  {
   "cell_type": "code",
   "execution_count": 2,
   "metadata": {},
   "outputs": [
    {
     "name": "stdout",
     "output_type": "stream",
     "text": [
      "Local current time : Fri Oct  6 00:40:11 2017\n"
     ]
    }
   ],
   "source": [
    "import time;\n",
    "\n",
    "localtime = time.asctime( time.localtime(time.time()) )\n",
    "print(\"Local current time :\", localtime)"
   ]
  },
  {
   "cell_type": "code",
   "execution_count": 3,
   "metadata": {},
   "outputs": [
    {
     "name": "stdout",
     "output_type": "stream",
     "text": [
      "1\n",
      "2\n",
      "Fizz\n",
      "4\n",
      "Buzz\n",
      "Fizz\n",
      "7\n",
      "8\n",
      "Fizz\n",
      "Buzz\n",
      "11\n",
      "Fizz\n",
      "13\n",
      "14\n",
      "FizzBuzz\n",
      "16\n",
      "17\n",
      "Fizz\n",
      "19\n",
      "Buzz\n",
      "Fizz\n",
      "22\n",
      "23\n",
      "Fizz\n",
      "Buzz\n",
      "26\n",
      "Fizz\n",
      "28\n",
      "29\n",
      "FizzBuzz\n",
      "31\n",
      "32\n",
      "Fizz\n",
      "34\n",
      "Buzz\n",
      "Fizz\n",
      "37\n",
      "38\n",
      "Fizz\n",
      "Buzz\n",
      "41\n",
      "Fizz\n",
      "43\n",
      "44\n",
      "FizzBuzz\n",
      "46\n",
      "47\n",
      "Fizz\n",
      "49\n",
      "Buzz\n",
      "Fizz\n",
      "52\n",
      "53\n",
      "Fizz\n",
      "Buzz\n",
      "56\n",
      "Fizz\n",
      "58\n",
      "59\n",
      "FizzBuzz\n",
      "61\n",
      "62\n",
      "Fizz\n",
      "64\n",
      "Buzz\n",
      "Fizz\n",
      "67\n",
      "68\n",
      "Fizz\n",
      "Buzz\n",
      "71\n",
      "Fizz\n",
      "73\n",
      "74\n",
      "FizzBuzz\n",
      "76\n",
      "77\n",
      "Fizz\n",
      "79\n",
      "Buzz\n",
      "Fizz\n",
      "82\n",
      "83\n",
      "Fizz\n",
      "Buzz\n",
      "86\n",
      "Fizz\n",
      "88\n",
      "89\n",
      "FizzBuzz\n",
      "91\n",
      "92\n",
      "Fizz\n",
      "94\n",
      "Buzz\n",
      "Fizz\n",
      "97\n",
      "98\n",
      "Fizz\n"
     ]
    }
   ],
   "source": [
    "for i in range(1, 100):\n",
    "    if i%3 == 0 and i%5 == 0:\n",
    "        print(\"FizzBuzz\")\n",
    "    elif i%5 == 0:\n",
    "        print(\"Buzz\")\n",
    "    elif i%3 == 0:\n",
    "        print(\"Fizz\")\n",
    "    else:\n",
    "        print(i)"
   ]
  },
  {
   "cell_type": "code",
   "execution_count": 4,
   "metadata": {},
   "outputs": [
    {
     "name": "stdout",
     "output_type": "stream",
     "text": [
      "648\n"
     ]
    }
   ],
   "source": [
    "n = 100\n",
    "f = 1\n",
    "\n",
    "while(n != 1):\n",
    "    f = f * n\n",
    "    n = n-1\n",
    "    \n",
    "s = sum(int(digit) for digit in str(f))\n",
    "\n",
    "#print(f)\n",
    "\n",
    "print(s)"
   ]
  },
  {
   "cell_type": "code",
   "execution_count": 5,
   "metadata": {},
   "outputs": [
    {
     "name": "stdout",
     "output_type": "stream",
     "text": [
      "Guess number from 1-104\n",
      "That is incorrect, try again\n",
      "10\n",
      "Guess number from 1-105\n",
      "That is incorrect, try again\n",
      "Guess number from 1-106\n",
      "That is incorrect, try again\n",
      "Guess number from 1-1010\n",
      "You are correct!\n",
      "3\n"
     ]
    }
   ],
   "source": [
    "import random;\n",
    "import array;\n",
    "\n",
    "c = int(input(\"Guess number from 1-10\"))\n",
    "n = random.randint(1,10)\n",
    "choices = array.array(\"i\",range(1,11))\n",
    "attempt = 0;\n",
    "\n",
    "if int(c) == n:\n",
    "    print(\"You are correct!\")\n",
    "elif int(c) != n:\n",
    "    print(\"That is incorrect, try again\")\n",
    "    if choices[c-1] != 0:\n",
    "        attempt += 1\n",
    "        choices[int(c)-1] = 0\n",
    "\n",
    "print(n)\n",
    "\n",
    "while(int(c) != n):\n",
    "    c = input(\"Guess number from 1-10\")\n",
    "    if int(c) == n:\n",
    "        print(\"You are correct!\")\n",
    "    elif int(c) != n:\n",
    "        print(\"That is incorrect, try again\")\n",
    "        if choices[int(c)-1] != 0:\n",
    "            attempt += 1\n",
    "            choices[int(c)-1] = 0\n",
    "        \n",
    "print(attempt)"
   ]
  },
  {
   "cell_type": "code",
   "execution_count": 6,
   "metadata": {},
   "outputs": [
    {
     "name": "stdout",
     "output_type": "stream",
     "text": [
      "9 1\n"
     ]
    }
   ],
   "source": [
    "listN = [2,6,8,4,3,5,9,1];\n",
    "highest = listN[0]; lowest = listN[0];\n",
    "#list.sort()\n",
    "\n",
    "for num in listN:\n",
    "    if num > highest:\n",
    "        highest = num\n",
    "    elif num < lowest:\n",
    "        lowest = num\n",
    "        \n",
    "print(highest, lowest)"
   ]
  },
  {
   "cell_type": "code",
   "execution_count": 7,
   "metadata": {},
   "outputs": [
    {
     "name": "stdout",
     "output_type": "stream",
     "text": [
      "Is palindrome\n"
     ]
    }
   ],
   "source": [
    "word = \"racecar\";\n",
    "check = \"\";\n",
    "\n",
    "for letter in reversed(word):\n",
    "    check += letter;\n",
    "    \n",
    "if(check == word):\n",
    "    print(\"Is palindrome\")\n",
    "else:\n",
    "    print(\"Not a palindrome\")"
   ]
  },
  {
   "cell_type": "code",
   "execution_count": 8,
   "metadata": {},
   "outputs": [
    {
     "name": "stdout",
     "output_type": "stream",
     "text": [
      "[1, 2, 3, 4, 5, 6]\n"
     ]
    }
   ],
   "source": [
    "first = [1,2,3]; second = [4,5,6];\n",
    "\n",
    "merge = first + second\n",
    "    \n",
    "print(merge)"
   ]
  },
  {
   "cell_type": "code",
   "execution_count": 27,
   "metadata": {},
   "outputs": [
    {
     "name": "stdout",
     "output_type": "stream",
     "text": [
      "Enter number to get Newton's square root of 81\n",
      "9.000009415515176\n"
     ]
    }
   ],
   "source": [
    "import math\n",
    "\n",
    "n = int(input(\"Enter number to get Newton's square root of \"))\n",
    "squared = \"false\";\n",
    "\n",
    "approx = 0.5 * n\n",
    "while squared == \"false\":\n",
    "    betterapprox = 0.5 * (approx + n/approx)\n",
    "    approx = betterapprox\n",
    "    if(abs(math.sqrt(n) - betterapprox) < 0.001 ):\n",
    "        squared = \"true\";\n",
    "print(betterapprox)"
   ]
  },
  {
   "cell_type": "code",
   "execution_count": 28,
   "metadata": {},
   "outputs": [
    {
     "name": "stdout",
     "output_type": "stream",
     "text": [
      "olleh\n"
     ]
    }
   ],
   "source": [
    "word = \"hello\";\n",
    "reverse = \"\";\n",
    "\n",
    "for letter in reversed(word):\n",
    "    reverse += letter\n",
    "    \n",
    "print(reverse)"
   ]
  },
  {
   "cell_type": "code",
   "execution_count": null,
   "metadata": {
    "collapsed": true
   },
   "outputs": [],
   "source": []
  }
 ],
 "metadata": {
  "kernelspec": {
   "display_name": "Python 3",
   "language": "python",
   "name": "python3"
  },
  "language_info": {
   "codemirror_mode": {
    "name": "ipython",
    "version": 3
   },
   "file_extension": ".py",
   "mimetype": "text/x-python",
   "name": "python",
   "nbconvert_exporter": "python",
   "pygments_lexer": "ipython3",
   "version": "3.6.2"
  }
 },
 "nbformat": 4,
 "nbformat_minor": 2
}
